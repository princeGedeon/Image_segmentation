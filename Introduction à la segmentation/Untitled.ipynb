{
 "cells": [
  {
   "cell_type": "markdown",
   "id": "829f4873",
   "metadata": {},
   "source": [
    "# Introduction à la segmentation d'image\n",
    "\n",
    "## 1- Définitions\n",
    "\n",
    "-  La segmentation d'image est une méthide qui consiste à délimiter de facon automatique des zones de pxels dans une image.Ces zones de pixels sont sensés appartenir à une même classe d'objects.\n",
    "\n",
    "-  La segmentation d'image s'utilise couramment pour la detection automatique d'objets.Au lieu de traiter l'image entiere on utilise des algorithme de segmetation pour troiver des objects d'interets dans l'image.Cela permet a l'algo de detection d'objet de ne pas traiter entierelent l'image ce qui améliore la précision et reduit de temps\n",
    "\n",
    "- La segmentation d'image est utile pour analyse d'images médicales de création de véhicules autonomes , la reconnaissance et la deection de visages, videosurveillance et analyse d'images satellitaires"
   ]
  },
  {
   "cell_type": "code",
   "execution_count": null,
   "id": "99c85af2",
   "metadata": {},
   "outputs": [],
   "source": [
    "# Binarisation est un type de traitement d'image (ou on utilise un seuil).Les pixels superieures a un certains seuil sont noir et l'autres est blanc\n"
   ]
  }
 ],
 "metadata": {
  "kernelspec": {
   "display_name": "Python 3 (ipykernel)",
   "language": "python",
   "name": "python3"
  },
  "language_info": {
   "codemirror_mode": {
    "name": "ipython",
    "version": 3
   },
   "file_extension": ".py",
   "mimetype": "text/x-python",
   "name": "python",
   "nbconvert_exporter": "python",
   "pygments_lexer": "ipython3",
   "version": "3.9.12"
  }
 },
 "nbformat": 4,
 "nbformat_minor": 5
}
